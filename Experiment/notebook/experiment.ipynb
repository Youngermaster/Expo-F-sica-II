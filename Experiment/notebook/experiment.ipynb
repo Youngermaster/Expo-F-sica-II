{
 "cells": [
  {
   "cell_type": "code",
   "execution_count": null,
   "metadata": {},
   "outputs": [
    {
     "ename": "",
     "evalue": "",
     "output_type": "error",
     "traceback": [
      "\u001b[1;31mRunning cells with 'venv' requires the ipykernel package.\n",
      "\u001b[1;31mRun the following command to install 'ipykernel' into the Python environment. \n",
      "\u001b[1;31mCommand: '/Users/juayoung/GitHub/Youngermaster/Expo-Fisica-II/Experiment/venv/bin/python -m pip install ipykernel -U --force-reinstall'"
     ]
    }
   ],
   "source": [
    "# Instalar paquetes necesarios\n",
    "import numpy as np\n",
    "import matplotlib.pyplot as plt\n",
    "from scipy.optimize import curve_fit"
   ]
  },
  {
   "cell_type": "code",
   "execution_count": null,
   "metadata": {},
   "outputs": [],
   "source": [
    "# Supongamos que estos son los voltajes (en voltios) medidos durante la descarga del capacitor\n",
    "voltajes = [9.0, 5.5, 2.3]  # Ejemplo de voltajes medidos\n",
    "tiempo_inicial = 0  # El tiempo inicial es 0\n",
    "tiempo_final = 10  # Ejemplo de tiempo final en segundos\n",
    "\n",
    "# Estimamos tiempos intermedios suponiendo una distribución equitativa\n",
    "tiempos = np.linspace(tiempo_inicial, tiempo_final, len(voltajes))\n",
    "\n",
    "\n",
    "# Definimos la función de descarga de un capacitor\n",
    "def modelo_descarga(t, Vb, RC):\n",
    "    return Vb * np.exp(-t / RC)"
   ]
  },
  {
   "cell_type": "code",
   "execution_count": null,
   "metadata": {},
   "outputs": [],
   "source": [
    "# Ajustamos el modelo a los datos para encontrar Vb y RC\n",
    "parametros_optimizados, _ = curve_fit(\n",
    "    modelo_descarga,\n",
    "    tiempos,\n",
    "    voltajes,\n",
    "    p0=[voltajes[0], (tiempo_final - tiempo_inicial) / 3],\n",
    ")\n",
    "\n",
    "Vb_estimado, RC_estimado = parametros_optimizados"
   ]
  },
  {
   "cell_type": "code",
   "execution_count": null,
   "metadata": {},
   "outputs": [],
   "source": [
    "# Usamos los parámetros optimizados para generar la curva de descarga\n",
    "tiempos_modelo = np.linspace(tiempo_inicial, tiempo_final, 100)\n",
    "voltajes_modelo = modelo_descarga(tiempos_modelo, Vb_estimado, RC_estimado)"
   ]
  },
  {
   "cell_type": "code",
   "execution_count": null,
   "metadata": {},
   "outputs": [],
   "source": [
    "# Graficamos los datos y el modelo\n",
    "plt.scatter(tiempos, voltajes, label=\"Datos medidos\")\n",
    "plt.plot(tiempos_modelo, voltajes_modelo, label=\"Modelo de descarga\", color=\"red\")\n",
    "plt.xlabel(\"Tiempo (s)\")\n",
    "plt.ylabel(\"Voltaje (V)\")\n",
    "plt.title(\"Curva de Descarga del Capacitor\")\n",
    "plt.legend()\n",
    "plt.show()"
   ]
  }
 ],
 "metadata": {
  "kernelspec": {
   "display_name": "venv",
   "language": "python",
   "name": "python3"
  },
  "language_info": {
   "name": "python",
   "version": "3.12.2"
  }
 },
 "nbformat": 4,
 "nbformat_minor": 2
}
